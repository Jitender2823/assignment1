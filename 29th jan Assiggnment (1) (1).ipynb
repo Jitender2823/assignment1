{
 "cells": [
  {
   "cell_type": "code",
   "execution_count": null,
   "id": "18c27b81-b892-4382-976c-c55d922ea315",
   "metadata": {},
   "outputs": [],
   "source": [
    "1. Who developed Python Programming Language?\n",
    "Answer- Python programming language was developed by Guido van Rossum in the late 1980s, and its first public release was in 1991."
   ]
  },
  {
   "cell_type": "code",
   "execution_count": null,
   "id": "c8afbe04-b0da-4304-9652-f94437050e83",
   "metadata": {},
   "outputs": [],
   "source": [
    "2. Which type of programming does python support?\n",
    "Answer- Python supports multiple programming paradigms, including:\n",
    "\n",
    "1.Imperative/Procedural Programming\n",
    "2.Object-Oriented Programming\n",
    "3.Functional Programming\n",
    "4.Aspect-Oriented Programming\n",
    "Python also supports scripting and can be used as a scripting language."
   ]
  },
  {
   "cell_type": "code",
   "execution_count": null,
   "id": "db78ac3f-428f-4c49-98e8-14d07a9a1e73",
   "metadata": {},
   "outputs": [],
   "source": [
    "3. Is Python case sensitive when dealing with identifiers?\n",
    "Answer- Yes, Python is case sensitive when dealing with identifiers."
   ]
  },
  {
   "cell_type": "code",
   "execution_count": null,
   "id": "0a7d9e61-199a-486a-892a-6c15e71b4a3d",
   "metadata": {},
   "outputs": [],
   "source": [
    "4. What is the correct extension of the Python file?\n",
    "Answer- The correct extension for a Python file is 'py'."
   ]
  },
  {
   "cell_type": "code",
   "execution_count": null,
   "id": "3b0ea40e-8ca3-485d-bcde-056dd6928da7",
   "metadata": {},
   "outputs": [],
   "source": [
    "5.Is Python code compiled or interpreted?\n",
    "Answer-Python code is typically interpreted, but it can also be compiled."
   ]
  },
  {
   "cell_type": "code",
   "execution_count": null,
   "id": "92892131-eaf5-401d-9cdb-ea823445b8dc",
   "metadata": {},
   "outputs": [],
   "source": [
    "6. Name a few blocks of code used to define in Python language?\n",
    "Answer-In Python, blocks of code are defined using indentation. The most common blocks of code used in Python include:\n",
    "\n",
    "Function blocks: A function block in Python is defined by the \"def\" keyword, followed by the function name and the function parameters. The block of code inside the function is indented under the \"def\" statement.\n",
    "\n",
    "Conditional blocks: Conditional blocks in Python are used to execute code only if a certain condition is true. The conditional block is defined by the \"if\" keyword, followed by the condition to be evaluated. The block of code inside the conditional is indented under the \"if\" statement. Optional \"elif\" and \"else\" blocks can also be included.\n",
    "\n",
    "Loop blocks: Loop blocks in Python are used to repeat a block of code a certain number of times or until a certain condition is met. The most common loop blocks in Python are \"for\" loops and \"while\" loops. The block of code inside the loop is indented under the \"for\" or \"while\" statement.\n",
    "\n",
    "Class blocks: A class block in Python is defined by the \"class\" keyword, followed by the class name and the class body. The class body contains the methods and attributes of the class, which are indented under the \"class\" statement."
   ]
  },
  {
   "cell_type": "code",
   "execution_count": null,
   "id": "d24bb7d9-2c98-4fbd-837a-354a25006ec9",
   "metadata": {},
   "outputs": [],
   "source": [
    "7. State a character used to give single-line comments in Python?\n",
    "Answer-In Python, the hash character (#) is used to give single-line comments."
   ]
  },
  {
   "cell_type": "code",
   "execution_count": null,
   "id": "82c4e6ad-c1bb-4422-8d0a-b60a4653ee05",
   "metadata": {},
   "outputs": [],
   "source": [
    "8.Mention functions which can help us to find the version of python that we are currently working on?\n",
    "Answer-There are several functions in Python that can help you determine the version of Python you are currently using. Here are a few examples:\n",
    "\n",
    "sys.version: This function returns a string containing the version number of Python, as well as additional information about the build and platform.\n",
    "\n",
    "sys.version_info: This function returns a tuple containing the major, minor, and micro version numbers of Python, as well as additional information about the release level and serial number.\n",
    "\n",
    "platform.python_version(): This function returns a string containing the version number of Python, similar to sys.version.\n",
    "\n",
    "platform.python_version_tuple(): This function returns a tuple containing the major, minor, and micro version numbers of Python, similar to sys.version_info."
   ]
  },
  {
   "cell_type": "code",
   "execution_count": null,
   "id": "9e03eb98-36eb-4d57-9396-72b4ef474e66",
   "metadata": {},
   "outputs": [],
   "source": [
    "9. Python suppoerts the creation of anonymous funtions at runtime, using a construct called ______________.\n",
    "Answer- Lambda."
   ]
  },
  {
   "cell_type": "code",
   "execution_count": null,
   "id": "6f8b70db-2202-4d84-b5fe-eb44ab8c3b2a",
   "metadata": {},
   "outputs": [],
   "source": [
    "10. What does pip stand for Python?\n",
    "Answer-PIP stands for \"Pip Installs Packages\" or \"Pip Installs Python\"."
   ]
  },
  {
   "cell_type": "code",
   "execution_count": null,
   "id": "1e90e68a-cdbb-45e8-8c7c-86fcd8a4ba0b",
   "metadata": {},
   "outputs": [],
   "source": [
    "11. Mention a few built-in functions in python?\n",
    "Answer-Python provides many built-in functions that can be used directly without importing any module. Here are a few examples of built-in functions in Python:\n",
    "\n",
    "print(): used to print the specified message to the console.\n",
    "\n",
    "input(): used to take input from the user through the console.\n",
    "\n",
    "len(): used to get the length of an object.\n",
    "\n",
    "type(): used to get the data type of an object.\n",
    "\n",
    "range(): used to generate a sequence of numbers.\n",
    "\n",
    "int(): used to convert a value into an integer.\n",
    "\n",
    "float(): used to convert a value into a float.\n",
    "\n",
    "str(): used to convert a value into a string.\n",
    "\n",
    "list(): used to convert a value into a list.\n",
    "\n",
    "dict(): used to create a dictionary."
   ]
  },
  {
   "cell_type": "code",
   "execution_count": null,
   "id": "61b170e3-4770-4872-bdd3-73ec436369f2",
   "metadata": {},
   "outputs": [],
   "source": [
    "12. What is the maximum possible length of an identifier in python?\n",
    "Answer-In Python, the maximum possible length of an identifier is not explicitly defined."
   ]
  },
  {
   "cell_type": "code",
   "execution_count": null,
   "id": "c2537787-faf1-4574-8a9f-7869ce5b26fd",
   "metadata": {},
   "outputs": [],
   "source": [
    "13. What are the benefits of using Python?\n",
    "Answer-Easy to learn: Python has a simple syntax and a large user community that provides numerous tutorials and resources to help users learn and get started with the language."
   ]
  },
  {
   "cell_type": "code",
   "execution_count": null,
   "id": "6348d0cd-3f3d-48cf-89e7-cd05c5906ad0",
   "metadata": {},
   "outputs": [],
   "source": [
    "14. How is memory managed in python?\n",
    "Answer-In Python, memory management is done automatically using a built-in mechanism called \"garbage collection.\" When an object is no longer needed, the garbage collector automatically deallocates the memory used by that object."
   ]
  },
  {
   "cell_type": "code",
   "execution_count": null,
   "id": "3294491f-e85c-4ff5-8436-0960752494de",
   "metadata": {},
   "outputs": [],
   "source": [
    "15. How to install python on windows and set path variables?\n",
    "Answer-Download the Python installer for Windows from the official Python website: https://www.python.org/downloads/"
   ]
  },
  {
   "cell_type": "code",
   "execution_count": null,
   "id": "5b949448-d4f8-42ce-a8b5-cfc270d4e3db",
   "metadata": {},
   "outputs": [],
   "source": [
    "16.Is indentation required in python?\n",
    "Answer-Yes, indentation is required in Python to indicate blocks of code."
   ]
  }
 ],
 "metadata": {
  "kernelspec": {
   "display_name": "Python 3 (ipykernel)",
   "language": "python",
   "name": "python3"
  },
  "language_info": {
   "codemirror_mode": {
    "name": "ipython",
    "version": 3
   },
   "file_extension": ".py",
   "mimetype": "text/x-python",
   "name": "python",
   "nbconvert_exporter": "python",
   "pygments_lexer": "ipython3",
   "version": "3.10.8"
  }
 },
 "nbformat": 4,
 "nbformat_minor": 5
}
